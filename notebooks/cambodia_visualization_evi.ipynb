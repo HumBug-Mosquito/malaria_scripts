{
 "cells": [
  {
   "cell_type": "code",
   "execution_count": 1,
   "metadata": {
    "collapsed": false
   },
   "outputs": [],
   "source": [
    "from __future__ import division\n",
    "import sys\n",
    "sys.path = ['..'] + sys.path\n",
    "\n",
    "import os\n",
    "import numpy as np\n",
    "from scipy.io import savemat\n",
    "import visualizer as viz\n",
    "import matplotlib.pyplot as plt\n",
    "import matplotlib.animation as animation\n",
    "%matplotlib inline\n",
    "\n",
    "%load_ext autoreload\n",
    "%autoreload 2"
   ]
  },
  {
   "cell_type": "markdown",
   "metadata": {},
   "source": [
    "### Import Data"
   ]
  },
  {
   "cell_type": "markdown",
   "metadata": {},
   "source": [
    "Provide a path to the numpy data and shape files. More shape files can be found at: http://www.gadm.org/download"
   ]
  },
  {
   "cell_type": "code",
   "execution_count": 8,
   "metadata": {
    "collapsed": false
   },
   "outputs": [],
   "source": [
    "COUNTRY     = 'cambodia'\n",
    "ENV         = 'air_temp'\n",
    "IMPORT_PATH = '/Volumes/DATA/Datasets/Geography_Data/%s/%s/' % (ENV, COUNTRY)\n",
    "SHAPE_PATH  = '/Volumes/DATA/Datasets/Geography_Data/shapefiles/KHM_adm_shp/KHM_adm0.shp'"
   ]
  },
  {
   "cell_type": "markdown",
   "metadata": {},
   "source": [
    "Load the numpy data into memory:"
   ]
  },
  {
   "cell_type": "code",
   "execution_count": 47,
   "metadata": {
    "collapsed": false
   },
   "outputs": [],
   "source": [
    "data = viz.import_numpy_files(IMPORT_PATH)"
   ]
  },
  {
   "cell_type": "markdown",
   "metadata": {},
   "source": [
    "### Handle Missing Data"
   ]
  },
  {
   "cell_type": "code",
   "execution_count": 5,
   "metadata": {
    "collapsed": false
   },
   "outputs": [],
   "source": [
    "from missing_data import replace_missing_values, missing_ratio"
   ]
  },
  {
   "cell_type": "code",
   "execution_count": 33,
   "metadata": {
    "collapsed": false
   },
   "outputs": [],
   "source": [
    "for date in data.keys():\n",
    "    missing_data_ratio = missing_ratio(data[date])        \n",
    "    #Replace missing data with average of neighbours\n",
    "    if missing_data_ratio:\n",
    "        data[date] = replace_missing_values(data[date])"
   ]
  },
  {
   "cell_type": "markdown",
   "metadata": {},
   "source": [
    "### Create Outline"
   ]
  },
  {
   "cell_type": "markdown",
   "metadata": {},
   "source": [
    "Load country outline:"
   ]
  },
  {
   "cell_type": "code",
   "execution_count": 9,
   "metadata": {
    "collapsed": false
   },
   "outputs": [],
   "source": [
    "(line_x, line_y) = viz.country_outline(SHAPE_PATH)"
   ]
  },
  {
   "cell_type": "markdown",
   "metadata": {},
   "source": [
    "### Environmental variable"
   ]
  },
  {
   "cell_type": "markdown",
   "metadata": {},
   "source": [
    "We need to divide all terms by 10000 to retrieve percentages"
   ]
  },
  {
   "cell_type": "code",
   "execution_count": 11,
   "metadata": {
    "collapsed": false
   },
   "outputs": [],
   "source": [
    "for date in data.keys():\n",
    "    data[date] = data[date] / 10000"
   ]
  },
  {
   "cell_type": "code",
   "execution_count": 37,
   "metadata": {
    "collapsed": true
   },
   "outputs": [],
   "source": [
    "for date in data.keys():\n",
    "    data[date] = np.clip(data[date], 0, 100)"
   ]
  },
  {
   "cell_type": "markdown",
   "metadata": {},
   "source": [
    "Hardcoded parameters for the visualization:"
   ]
  },
  {
   "cell_type": "code",
   "execution_count": 13,
   "metadata": {
    "collapsed": true
   },
   "outputs": [],
   "source": [
    "x_offset = 3613\n",
    "y_offset = 1550\n",
    "array_width = 112\n",
    "array_height = 88\n",
    "viz_width = 8\n",
    "aspect_ratio = array_width / array_height\n",
    "viz_height = viz_width / aspect_ratio"
   ]
  },
  {
   "cell_type": "markdown",
   "metadata": {},
   "source": [
    "Offset the country outline to match up with the raster data:"
   ]
  },
  {
   "cell_type": "code",
   "execution_count": 14,
   "metadata": {
    "collapsed": false
   },
   "outputs": [],
   "source": [
    "offset_line_x = [x - x_offset for x in line_x]\n",
    "offset_line_y = [y - y_offset for y in line_y]"
   ]
  },
  {
   "cell_type": "code",
   "execution_count": 15,
   "metadata": {
    "collapsed": false
   },
   "outputs": [],
   "source": [
    "dates = sorted([date for date in data.keys()])"
   ]
  },
  {
   "cell_type": "code",
   "execution_count": 16,
   "metadata": {
    "collapsed": false
   },
   "outputs": [],
   "source": [
    "font = {'family' : 'Arial',\n",
    "        'weight' : 'normal',\n",
    "        'size'   : 16}\n",
    "plt.rc('font', **font)"
   ]
  },
  {
   "cell_type": "code",
   "execution_count": 50,
   "metadata": {
    "collapsed": false
   },
   "outputs": [],
   "source": [
    "def build_evi_map(date, data):\n",
    "    monthly_data = data[date]\n",
    "    ax = plt.gca()\n",
    "    ax.get_xaxis().set_visible(False)\n",
    "    ax.get_yaxis().set_visible(False)\n",
    "    ocean = np.ma.masked_array(monthly_data, monthly_data != -0.9999)\n",
    "    ocean_map = plt.pcolormesh(ocean, vmin=-1, vmax=-0.9998, alpha=1, cmap=\"Blues\", zorder=10)\n",
    "    temp_map = plt.pcolor(monthly_data, cmap=plt.cm.hot, norm=plt.Normalize(10, 30)) #norm=plt.Normalize(0, 0.8))\n",
    "    #month_label = plt.text(35, 127, 'date: ' + date, fontsize=12, zorder=20)\n",
    "    return (temp_map,ocean_map)#, month_label) #boundary, "
   ]
  },
  {
   "cell_type": "code",
   "execution_count": 51,
   "metadata": {
    "collapsed": false
   },
   "outputs": [
    {
     "data": {
      "image/png": "[encoded data removed]",
      "text/plain": [
       "<matplotlib.figure.Figure at 0x250267690>"
      ]
     },
     "metadata": {},
     "output_type": "display_data"
    }
   ],
   "source": [
    "import numpy as np\n",
    "\n",
    "dpi = 100\n",
    "\n",
    "fig = plt.figure()\n",
    "fig.set_size_inches(viz_width, viz_height)\n",
    "plt.xlim(xmax=array_width)\n",
    "plt.ylim(ymax=array_height)\n",
    "    \n",
    "heatmaps = []\n",
    "x = np.arange(-9, 10)\n",
    "y = np.arange(-9, 10).reshape(-1, 1)\n",
    "base = np.hypot(x,y)\n",
    "\n",
    "for i, date in enumerate(dates[:20]):\n",
    "    heatmaps.append(build_evi_map(date, data))\n",
    "\n",
    "cbar = plt.colorbar()\n",
    "#boundary = plt.plot(offset_line_x, offset_line_y, c='k', linewidth=1, linestyle='-', dash_capstyle='projecting', zorder=5)\n",
    "cbar.set_ticks([0, 1])\n",
    "cbar.set_label('Enhanced Vegetation Index')\n",
    "plt.gca().invert_yaxis()\n",
    "plt.gca().set_title(\"EVI Map for %s, 2000-2014\" % COUNTRY.title(), fontsize=17)\n",
    "map_ani = animation.ArtistAnimation(fig, heatmaps, interval=100, repeat=True, repeat_delay=None, blit=True)\n",
    "writer = animation.writers['ffmpeg'](fps=12, bitrate=1800)\n",
    "plt.tight_layout()\n",
    "plt.grid()\n",
    "\n",
    "map_ani.save('%s_%s.mp4' % (ENV, COUNTRY), dpi=dpi)\n",
    "plt.show()"
   ]
  },
  {
   "cell_type": "code",
   "execution_count": null,
   "metadata": {
    "collapsed": false
   },
   "outputs": [],
   "source": [
    "# print np.min(data['2000_02'])\n",
    "# print np.max(data['2000_02'])\n",
    "\n",
    "# print np.min(data['2011_02'])\n",
    "# print np.max(data['2011_02'])\n",
    "\n",
    "for date, item in data.iteritems():\n",
    "    print np.unique(data['2011_02'])"
   ]
  },
  {
   "cell_type": "markdown",
   "metadata": {
    "collapsed": false
   },
   "source": [
    "Save `data` into a matlab `mat` file. Matlab doesn't like underscores in the variable name and/or variables starting with a number (I think), hence the conversion."
   ]
  },
  {
   "cell_type": "code",
   "execution_count": 65,
   "metadata": {
    "collapsed": false
   },
   "outputs": [],
   "source": [
    "data2 = {\"d%s\" % k.replace(\"_\", \"\"):v for k,v in data.items()}\n",
    "savemat('%s-data.mat' % COUNTRY, data2)"
   ]
  },
  {
   "cell_type": "markdown",
   "metadata": {},
   "source": [
    "### Gather statistics"
   ]
  },
  {
   "cell_type": "code",
   "execution_count": null,
   "metadata": {
    "collapsed": false
   },
   "outputs": [],
   "source": [
    "import numpy.ma as ma\n",
    "\n",
    "def temp_stats(month, data):\n",
    "    masked = ma.masked_less_equal(data[month], -0.01)\n",
    "    stats = {\n",
    "        'min': np.amin(masked),\n",
    "        'max': np.amax(masked),\n",
    "        'avg': ma.average(masked)\n",
    "    }\n",
    "    return stats"
   ]
  },
  {
   "cell_type": "code",
   "execution_count": null,
   "metadata": {
    "collapsed": false
   },
   "outputs": [],
   "source": [
    "min_temps = []\n",
    "max_temps = []\n",
    "avg_temps = []\n",
    "for date in dates:\n",
    "    min_temps.append(temp_stats(date, data)['min'])\n",
    "    max_temps.append(temp_stats(date, data)['max'])\n",
    "    avg_temps.append(temp_stats(date, data)['avg'])"
   ]
  },
  {
   "cell_type": "code",
   "execution_count": null,
   "metadata": {
    "collapsed": false
   },
   "outputs": [],
   "source": [
    "import pandas as pd\n",
    "from datetime import date"
   ]
  },
  {
   "cell_type": "code",
   "execution_count": null,
   "metadata": {
    "collapsed": false
   },
   "outputs": [],
   "source": [
    "start = date(2000,1,1)\n",
    "end = date(2014,2,1)\n",
    "range_of_dates = pd.date_range(start, end, freq='M')\n",
    "x_dates = range_of_dates.to_pydatetime()"
   ]
  },
  {
   "cell_type": "code",
   "execution_count": null,
   "metadata": {
    "collapsed": false
   },
   "outputs": [],
   "source": [
    "DARK_GREEN = '#339933'\n",
    "LIGHT_GREEN = '#99CC00'"
   ]
  },
  {
   "cell_type": "code",
   "execution_count": null,
   "metadata": {
    "collapsed": false
   },
   "outputs": [],
   "source": [
    "import matplotlib.lines as mlines\n",
    "import matplotlib.dates as dates\n",
    "from matplotlib.dates import YearLocator, MonthLocator, DateFormatter\n",
    "from matplotlib import colors\n",
    "\n",
    "fig, ax = plt.subplots(figsize=(20,5))\n",
    "ax.set_title(\"EVI Across Benin, 2000 - 2014\", fontsize=20)\n",
    "\n",
    "ax.set_xlim(xmin=start, xmax=end) \n",
    "\n",
    "ax.plot_date(x_dates, max_temps, '-', color=DARK_GREEN)\n",
    "ax.plot_date(x_dates, avg_temps, '-', color=LIGHT_GREEN)\n",
    "ax.set_ylabel(\"Enhanced Vegetation Index\", fontsize=14)\n",
    "\n",
    "ax.xaxis.set_minor_locator(dates.MonthLocator())\n",
    "ax.yaxis.grid()\n",
    "ax.xaxis.set_major_locator(dates.YearLocator())\n",
    "ax.xaxis.set_major_formatter(dates.DateFormatter('%Y'))\n",
    "ax.xaxis.grid()\n",
    "plt.tight_layout()\n",
    "\n",
    "max_line = mlines.Line2D([], [], color=DARK_GREEN, markersize=10, label='maximum')\n",
    "avg_line = mlines.Line2D([], [], color=LIGHT_GREEN, markersize=10, label='average')\n",
    "legend = plt.legend(handles=[max_line, avg_line], fontsize=12, loc='lower right')\n",
    "plt.savefig('Benin_evi_plot.png')\n",
    "plt.show()\n"
   ]
  },
  {
   "cell_type": "code",
   "execution_count": null,
   "metadata": {
    "collapsed": true
   },
   "outputs": [],
   "source": []
  }
 ],
 "metadata": {
  "kernelspec": {
   "display_name": "Python 2",
   "language": "python",
   "name": "python2"
  },
  "language_info": {
   "codemirror_mode": {
    "name": "ipython",
    "version": 2
   },
   "file_extension": ".py",
   "mimetype": "text/x-python",
   "name": "python",
   "nbconvert_exporter": "python",
   "pygments_lexer": "ipython2",
   "version": "2.7.10"
  }
 },
 "nbformat": 4,
 "nbformat_minor": 0
}
